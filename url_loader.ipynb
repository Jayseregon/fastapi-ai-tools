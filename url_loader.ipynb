{
 "cells": [
  {
   "cell_type": "code",
   "execution_count": 1,
   "metadata": {},
   "outputs": [],
   "source": [
    "import json\n",
    "from src.services.loaders.web import SeticsLoader, PublicLoader"
   ]
  },
  {
   "cell_type": "code",
   "execution_count": 2,
   "metadata": {},
   "outputs": [],
   "source": [
    "username = \"jeremie.bitsch@telecon.ca\"\n",
    "password = \"sujnux-6fadfu-ryJnok\"\n",
    "\n",
    "login_url = \"https://support.setics-sttar.com/en/support/login\"\n",
    "protected_url = \"https://docs.setics-sttar.com/advanced-designer-user-manual/2.3/en/topic/introduction\""
   ]
  },
  {
   "cell_type": "code",
   "execution_count": 3,
   "metadata": {},
   "outputs": [
    {
     "data": {
      "text/plain": [
       "219"
      ]
     },
     "execution_count": 3,
     "metadata": {},
     "output_type": "execute_result"
    }
   ],
   "source": [
    "setics_url_json = json.load(open(\"new_urls.json\"))\n",
    "len(setics_url_json)"
   ]
  },
  {
   "cell_type": "code",
   "execution_count": 4,
   "metadata": {},
   "outputs": [
    {
     "name": "stderr",
     "output_type": "stream",
     "text": [
      "Fetching pages: 100%|##########| 5/5 [00:03<00:00,  1.26it/s]"
     ]
    },
    {
     "name": "stdout",
     "output_type": "stream",
     "text": [
      "{'source': 'https://docs.setics-sttar.com/advanced-designer-user-manual/2.3/en/topic/selection-tools-context-menu', 'title': 'Selection Tools – Context Menu - Setics Sttar Advanced Designer  |  User Manual - Version 2.3', 'description': \"Map tab - Selection tool's context menu The context menu allows you to select all the elements of the active layer in the layer control panel. It also allows you...\", 'language': 'en'}\n",
      "{'source': 'https://docs.setics-sttar.com/advanced-designer-user-manual/2.3/en/topic/infrastructure-layers', 'title': 'Infrastructure Layers - Setics Sttar Advanced Designer  |  User Manual - Version 2.3', 'description': 'Pathways Net_Pathways Attribute Description GEOMETRY Geometry of the pathway. Type: Polyline. NETID Identification of the network. Corresponds to the ELEMENTID...', 'language': 'en'}\n",
      "{'source': 'https://docs.setics-sttar.com/advanced-designer-user-manual/2.3/en/topic/infrastructure-table-reports', 'title': 'Infrastructure Table Reports - Setics Sttar Advanced Designer  |  User Manual - Version 2.3', 'description': 'If the routing tables reports option is checked, two table views of the infrastructure will be exported: Routing_Lines.csv Routing_Table.csv These tables are...', 'language': 'en'}\n",
      "{'source': 'https://docs.setics-sttar.com/advanced-designer-user-manual/2.3/en/topic/equipment-database', 'title': 'Equipment Database - Setics Sttar Advanced Designer  |  User Manual - Version 2.3', 'description': 'Cabinets and Racks Cables Splice Closures Duct and Microduct Assemblies Ducts and Microduct Tubes Splitters Generic Equipment', 'language': 'en'}\n",
      "{'source': 'https://docs.setics-sttar.com/advanced-designer-user-manual/2.3/en/topic/tools-menu', 'title': 'Tools Menu - Setics Sttar Advanced Designer  |  User Manual - Version 2.3', 'description': '', 'language': 'en'}\n"
     ]
    },
    {
     "name": "stderr",
     "output_type": "stream",
     "text": [
      "\n"
     ]
    }
   ],
   "source": [
    "async with SeticsLoader() as service:\n",
    "    await service.authenticate(\n",
    "        username=username,\n",
    "        password=password,\n",
    "        login_url=login_url,\n",
    "        check_url=protected_url,\n",
    "    )\n",
    "    docs = await service.load_documents(urls=setics_url_json[10:15])\n",
    "\n",
    "for doc in docs:\n",
    "    print(doc.metadata)"
   ]
  },
  {
   "cell_type": "code",
   "execution_count": 6,
   "metadata": {},
   "outputs": [
    {
     "name": "stderr",
     "output_type": "stream",
     "text": [
      "Fetching pages: 100%|##########| 1/1 [00:00<00:00, 14.77it/s]"
     ]
    },
    {
     "name": "stdout",
     "output_type": "stream",
     "text": [
      "{'source': 'https://docs.python.org/3/library/asyncio-sync.html#asyncio.Condition', 'title': 'Synchronization Primitives — Python 3.13.2 documentation', 'description': 'Source code: Lib/asyncio/locks.py asyncio synchronization primitives are designed to be similar to those of the threading module with two important caveats: asyncio primitives are not thread-safe, ...', 'language': 'en'}\n"
     ]
    },
    {
     "name": "stderr",
     "output_type": "stream",
     "text": [
      "\n"
     ]
    }
   ],
   "source": [
    "python_url = \"https://docs.python.org/3/library/asyncio-sync.html#asyncio.Condition\"\n",
    "\n",
    "async with PublicLoader() as service:\n",
    "    docs = await service.load_documents(urls=python_url)\n",
    "\n",
    "print(docs[0].metadata)"
   ]
  },
  {
   "cell_type": "code",
   "execution_count": null,
   "metadata": {},
   "outputs": [],
   "source": []
  }
 ],
 "metadata": {
  "kernelspec": {
   "display_name": ".venv",
   "language": "python",
   "name": "python3"
  },
  "language_info": {
   "codemirror_mode": {
    "name": "ipython",
    "version": 3
   },
   "file_extension": ".py",
   "mimetype": "text/x-python",
   "name": "python",
   "nbconvert_exporter": "python",
   "pygments_lexer": "ipython3",
   "version": "3.12.9"
  }
 },
 "nbformat": 4,
 "nbformat_minor": 2
}
