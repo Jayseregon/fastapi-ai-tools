{
 "cells": [
  {
   "cell_type": "code",
   "execution_count": 1,
   "metadata": {},
   "outputs": [],
   "source": [
    "import random\n",
    "from src.configs.env_config import config\n",
    "from src.services.db import chroma_service\n",
    "from pathlib import Path\n",
    "from langchain.retrievers.multi_query import MultiQueryRetriever\n",
    "from langchain.retrievers import ContextualCompressionRetriever\n",
    "from langchain.retrievers.document_compressors import FlashrankRerank\n",
    "from langchain_openai import OpenAIEmbeddings, ChatOpenAI\n",
    "from langchain_chroma import Chroma\n",
    "from pprint import pprint\n",
    "from langchain_core.prompts import PromptTemplate\n",
    "from src.services.utils import (\n",
    "    text_splitter_recursive_char,\n",
    "    create_chunk_ids,\n",
    "    json_to_documents,\n",
    ")\n",
    "from src.services.processors import DocumentsPreprocessing\n",
    "from src.services.vectorstore import ChromaStore\n",
    "from src.services.retrievers import MultiQRerankedRetriever"
   ]
  },
  {
   "cell_type": "code",
   "execution_count": 2,
   "metadata": {},
   "outputs": [
    {
     "data": {
      "text/plain": [
       "1744290647202356378"
      ]
     },
     "execution_count": 2,
     "metadata": {},
     "output_type": "execute_result"
    }
   ],
   "source": [
    "client = chroma_service()\n",
    "client.heartbeat()"
   ]
  },
  {
   "cell_type": "code",
   "execution_count": 3,
   "metadata": {},
   "outputs": [],
   "source": [
    "# collection_name = \"local_collection\"\n",
    "collection_name = \"knowledge_base\""
   ]
  },
  {
   "cell_type": "code",
   "execution_count": 6,
   "metadata": {},
   "outputs": [
    {
     "data": {
      "text/plain": [
       "Collection(name=local_collection)"
      ]
     },
     "execution_count": 6,
     "metadata": {},
     "output_type": "execute_result"
    }
   ],
   "source": [
    "if client.get_collection(collection_name):\n",
    "    client.delete_collection(collection_name)\n",
    "\n",
    "collection = client.get_or_create_collection(collection_name)\n",
    "collection"
   ]
  },
  {
   "cell_type": "code",
   "execution_count": 4,
   "metadata": {},
   "outputs": [],
   "source": [
    "pdf_data_src = Path(\"_dev_nb/output_data/pdf_loader\")\n",
    "web_data_src = Path(\"_dev_nb/output_data/web_loader\")"
   ]
  },
  {
   "cell_type": "markdown",
   "metadata": {},
   "source": [
    "### classes\n"
   ]
  },
  {
   "cell_type": "code",
   "execution_count": 8,
   "metadata": {},
   "outputs": [
    {
     "data": {
      "text/plain": [
       "0"
      ]
     },
     "execution_count": 8,
     "metadata": {},
     "output_type": "execute_result"
    }
   ],
   "source": [
    "client.get_collection(collection_name).count()"
   ]
  },
  {
   "cell_type": "code",
   "execution_count": 8,
   "metadata": {},
   "outputs": [
    {
     "name": "stdout",
     "output_type": "stream",
     "text": [
      "Got 525 documents\n"
     ]
    }
   ],
   "source": [
    "json_path = web_data_src / \"setics_stad_docs_clean.json\"\n",
    "docs = json_to_documents(filename=json_path)\n",
    "\n",
    "print(f\"Got {len(docs)} documents\")"
   ]
  },
  {
   "cell_type": "code",
   "execution_count": 14,
   "metadata": {},
   "outputs": [
    {
     "name": "stdout",
     "output_type": "stream",
     "text": [
      "Dataset 1 -> Part 1: 231 | Part 2: 362\n"
     ]
    }
   ],
   "source": [
    "docs_copy1 = docs.copy()\n",
    "random.shuffle(docs_copy1)\n",
    "split_idx1 = random.randint(100, len(docs_copy1) - 1)\n",
    "docs_part1 = docs_copy1[:split_idx1]\n",
    "\n",
    "docs_copy2 = docs.copy()\n",
    "random.shuffle(docs_copy2)\n",
    "split_idx2 = random.randint(100, len(docs_copy2) - 1)\n",
    "docs_part2 = docs_copy2[:split_idx2]\n",
    "\n",
    "print(f\"Dataset 1 -> Part 1: {len(docs_part1)} | Part 2: {len(docs_part2)}\")"
   ]
  },
  {
   "cell_type": "code",
   "execution_count": 15,
   "metadata": {},
   "outputs": [
    {
     "name": "stdout",
     "output_type": "stream",
     "text": [
      "Created 500 and 812 chunks\n"
     ]
    }
   ],
   "source": [
    "processor = DocumentsPreprocessing()\n",
    "chunks1, ids1 = await processor(documents=docs_part1)\n",
    "chunks2, ids2 = await processor(documents=docs_part2)\n",
    "\n",
    "print(f\"Created {len(chunks1)} and {len(chunks2)} chunks\")"
   ]
  },
  {
   "cell_type": "code",
   "execution_count": 5,
   "metadata": {},
   "outputs": [],
   "source": [
    "store = ChromaStore()"
   ]
  },
  {
   "cell_type": "code",
   "execution_count": 17,
   "metadata": {},
   "outputs": [
    {
     "name": "stdout",
     "output_type": "stream",
     "text": [
      "Added 500 chunks to the collection\n",
      "Skipped 0 chunks\n",
      "Skipped sources: []\n"
     ]
    }
   ],
   "source": [
    "added_count, skipped_count, skipped_sources = await store.add_documents(\n",
    "    documents=chunks1, ids=ids1, collection_name=collection_name\n",
    ")\n",
    "\n",
    "print(f\"Added {added_count} chunks to the collection\")\n",
    "print(f\"Skipped {skipped_count} chunks\")\n",
    "print(f\"Skipped sources: {skipped_sources}\")"
   ]
  },
  {
   "cell_type": "code",
   "execution_count": 18,
   "metadata": {},
   "outputs": [
    {
     "data": {
      "text/plain": [
       "500"
      ]
     },
     "execution_count": 18,
     "metadata": {},
     "output_type": "execute_result"
    }
   ],
   "source": [
    "client.get_collection(collection_name).count()"
   ]
  },
  {
   "cell_type": "code",
   "execution_count": 19,
   "metadata": {},
   "outputs": [
    {
     "name": "stdout",
     "output_type": "stream",
     "text": [
      "Added 494 chunks to the collection\n",
      "Skipped 318 chunks\n",
      "Skipped sources: ['https://docs.setics-sttar.com/advanced-designer-user-manual/2.3/fr/topic/cabling-diagram', 'https://docs.setics-sttar.com/advanced-designer-user-manual/2.3/en/topic/import-infrastructure-data', 'https://docs.setics-sttar.com/advanced-designer-user-manual/2.3/fr/topic/property-table', 'https://docs.setics-sttar.com/advanced-designer-user-manual/2.3/en/topic/creation-tool', 'https://docs.setics-sttar.com/advanced-designer-user-manual/2.3/en/topic/import-endpoints?q=import+engineering+rules', 'https://docs.setics-sttar.com/advanced-designer-user-manual/2.3/en/topic/topology3', 'https://docs.setics-sttar.com/advanced-designer-user-manual/2.3/fr/topic/setics-sttar-data-model', 'https://docs.setics-sttar.com/advanced-designer-user-manual/2.3/fr/topic/cable-system-commands', 'https://docs.setics-sttar.com/advanced-designer-user-manual/2.3/fr/topic/network-service-areas-report', 'https://docs.setics-sttar.com/advanced-designer-user-manual/2.3/en/topic/infrastructure-main-window', 'https://docs.setics-sttar.com/advanced-designer-user-manual/2.3/fr/topic/project-configuration-file', 'https://docs.setics-sttar.com/advanced-designer-user-manual/2.3/en/topic/cables4', 'https://docs.setics-sttar.com/advanced-designer-user-manual/2.3/en/topic/define-reference-costs', 'https://docs.setics-sttar.com/advanced-designer-user-manual/2.3/en/topic/international-options', 'https://docs.setics-sttar.com/advanced-designer-user-manual/2.3/fr/topic/export-network-data', 'https://docs.setics-sttar.com/advanced-designer-user-manual/2.3/fr/topic/creation-tool', 'https://docs.setics-sttar.com/advanced-designer-user-manual/2.3/fr/topic/network-nodes-report', 'https://docs.setics-sttar.com/advanced-designer-user-manual/2.3/fr/topic/data-related-to-network-nodes-and-endpoints', 'https://docs.setics-sttar.com/advanced-designer-user-manual/2.3/en/topic/hardware-and-software-requirements', 'https://docs.setics-sttar.com/advanced-designer-user-manual/2.3/fr/topic/equipment2', 'https://docs.setics-sttar.com/advanced-designer-user-manual/2.3/en/topic/topology2', 'https://docs.setics-sttar.com/advanced-designer-user-manual/2.3/en/topic/naming-rules?q=import+engineering+rules', 'https://docs.setics-sttar.com/advanced-designer-user-manual/2.3/fr/topic/naming-rules-variables', 'https://docs.setics-sttar.com/advanced-designer-user-manual/2.3/fr/topic/data2', 'https://docs.setics-sttar.com/advanced-designer-user-manual/2.3/fr/topic/identify-useful-gis-data-and-check-their-quality', 'https://docs.setics-sttar.com/advanced-designer-user-manual/2.3/en/topic/installing-a-network-license', 'https://docs.setics-sttar.com/advanced-designer-user-manual/2.3/fr/topic/duct-datasheet', 'https://docs.setics-sttar.com/advanced-designer-user-manual/2.3/fr/topic/import-nodes', 'https://docs.setics-sttar.com/advanced-designer-user-manual/2.3/fr/topic/parent-node-affiliation-tool', 'https://docs.setics-sttar.com/advanced-designer-user-manual/2.3/en/topic/generate-duct-template', 'https://docs.setics-sttar.com/advanced-designer-user-manual/2.3/fr/topic/equipment', 'https://docs.setics-sttar.com/advanced-designer-user-manual/2.3/fr/topic/cable-system-layers', 'https://docs.setics-sttar.com/advanced-designer-user-manual/2.3/fr/topic/joints-for-cables-of-the-same-level', 'https://docs.setics-sttar.com/advanced-designer-user-manual/2.3/en/topic/network-service-areas-convex-hulls', 'https://docs.setics-sttar.com/advanced-designer-user-manual/2.3/fr/topic/selection-tools-add-remove-selection-elements', 'https://docs.setics-sttar.com/advanced-designer-user-manual/2.3/en/topic/plugins2', 'https://docs.setics-sttar.com/advanced-designer-user-manual/2.3/en/topic/dimensioning?q=import+engineering+rules', 'https://docs.setics-sttar.com/advanced-designer-user-manual/2.3/fr/topic/node-support-context-menu?q=import+engineering+rules', 'https://docs.setics-sttar.com/advanced-designer-user-manual/2.3/en/topic/endpoint-sequencing-options', 'https://docs.setics-sttar.com/advanced-designer-user-manual/2.3/fr/topic/architecture-main-window?q=import+engineering+rules', 'https://docs.setics-sttar.com/advanced-designer-user-manual/2.3/en/topic/optical-routes', 'https://docs.setics-sttar.com/advanced-designer-user-manual/2.3/fr/topic/user-interface', 'https://docs.setics-sttar.com/advanced-designer-user-manual/2.3/en/topic/cables2', 'https://docs.setics-sttar.com/advanced-designer-user-manual/2.3/fr/topic/naming-rules?q=import+engineering+rules', 'https://docs.setics-sttar.com/advanced-designer-user-manual/2.3/en/topic/network-lines-report', 'https://docs.setics-sttar.com/advanced-designer-user-manual/2.3/en/topic/generate-template', 'https://docs.setics-sttar.com/advanced-designer-user-manual/2.3/en/topic/network-pathway-access-structures-report', 'https://docs.setics-sttar.com/advanced-designer-user-manual/2.3/en/topic/glossary', 'https://docs.setics-sttar.com/advanced-designer-user-manual/2.3/en/topic/nodes-and-endpoints', 'https://docs.setics-sttar.com/advanced-designer-user-manual/2.3/en/topic/dimensioning2', 'https://docs.setics-sttar.com/advanced-designer-user-manual/2.3/en/topic/filter-on-attribute', 'https://docs.setics-sttar.com/advanced-designer-user-manual/2.3/en/topic/parent-node-affiliation-tool', 'https://docs.setics-sttar.com/advanced-designer-user-manual/2.3/en/topic/preprocess-with-fme', 'https://docs.setics-sttar.com/advanced-designer-user-manual/2.3/en/topic/file-menu', 'https://docs.setics-sttar.com/advanced-designer-user-manual/2.3/en/topic/infrastructure-network-architecture-model', 'https://docs.setics-sttar.com/advanced-designer-user-manual/2.3/en/topic/user-interface-project-tab', 'https://docs.setics-sttar.com/advanced-designer-user-manual/2.3/fr/topic/user-interface-routing-tab', 'https://docs.setics-sttar.com/advanced-designer-user-manual/2.3/en/topic/cable-datasheet?q=import+engineering+rules', 'https://docs.setics-sttar.com/advanced-designer-user-manual/2.3/en/topic/user-interface-routing-tab?q=import+engineering+rules', 'https://docs.setics-sttar.com/advanced-designer-user-manual/2.3/en/topic/duct-diagram', 'https://docs.setics-sttar.com/advanced-designer-user-manual/2.3/fr/topic/network-endpoints-report', 'https://docs.setics-sttar.com/advanced-designer-user-manual/2.3/en/topic/node-support-context-menu', 'https://docs.setics-sttar.com/advanced-designer-user-manual/2.3/fr/topic/node-fusion-tool', 'https://docs.setics-sttar.com/advanced-designer-user-manual/2.3/fr/topic/named-objects', 'https://docs.setics-sttar.com/advanced-designer-user-manual/2.3/fr/topic/load-and-configure-infrastructures?q=import+engineering+rules', 'https://docs.setics-sttar.com/advanced-designer-user-manual/2.3/en/topic/default-costs-options', 'https://docs.setics-sttar.com/advanced-designer-user-manual/2.3/en/topic/sections-between-cabling-splice-closures', 'https://docs.setics-sttar.com/advanced-designer-user-manual/2.3/fr/topic/data-related-to-infrastructures', 'https://docs.setics-sttar.com/advanced-designer-user-manual/2.3/en/topic/fiber-connectivity-layers', 'https://docs.setics-sttar.com/advanced-designer-user-manual/2.3/fr/topic/infrastructure-main-window?q=import+engineering+rules', 'https://docs.setics-sttar.com/advanced-designer-user-manual/2.3/en/topic/user-interface-results-tab', 'https://docs.setics-sttar.com/advanced-designer-user-manual/2.3/fr/topic/costs', 'https://docs.setics-sttar.com/advanced-designer-user-manual/2.3/fr/topic/summary-report-project', 'https://docs.setics-sttar.com/advanced-designer-user-manual/2.3/en/topic/infrastructure-pop-up-menu?q=import+engineering+rules', 'https://docs.setics-sttar.com/advanced-designer-user-manual/2.3/fr/topic/logging-options', 'https://docs.setics-sttar.com/advanced-designer-user-manual/2.3/fr/topic/plugins', 'https://docs.setics-sttar.com/advanced-designer-user-manual/2.3/en/topic/export-network-data', 'https://docs.setics-sttar.com/advanced-designer-user-manual/2.3/fr/topic/duct-diagram-options', 'https://docs.setics-sttar.com/advanced-designer-user-manual/2.3/en/topic/splicing-plans', 'https://docs.setics-sttar.com/advanced-designer-user-manual/2.3/fr/topic/data-related-to-infrastructures?q=import+engineering+rules', 'https://docs.setics-sttar.com/advanced-designer-user-manual/2.3/en/topic/import-passive-architecture-data', 'https://docs.setics-sttar.com/advanced-designer-user-manual/2.3/en/topic/define-engineering-rules?q=import+engineering+rules', 'https://docs.setics-sttar.com/advanced-designer-user-manual/2.3/fr/topic/import-endpoints', 'https://docs.setics-sttar.com/advanced-designer-user-manual/2.3/fr/topic/topology3', 'https://docs.setics-sttar.com/advanced-designer-user-manual/2.3/fr/topic/network-transmission-tree', 'https://docs.setics-sttar.com/advanced-designer-user-manual/2.3/en/topic/splice-closure-plans', 'https://docs.setics-sttar.com/advanced-designer-user-manual/2.3/fr/topic/conduit-system-model', 'https://docs.setics-sttar.com/advanced-designer-user-manual/2.3/fr/topic/routing-main-window', 'https://docs.setics-sttar.com/advanced-designer-user-manual/2.3/en/topic/network-nodes-report', 'https://docs.setics-sttar.com/advanced-designer-user-manual/2.3/en/topic/project-configuration-file?q=import+engineering+rules', 'https://docs.setics-sttar.com/advanced-designer-user-manual/2.3/fr/topic/installing-a-network-license', 'https://docs.setics-sttar.com/advanced-designer-user-manual/2.3/en/topic/save-results', 'https://docs.setics-sttar.com/advanced-designer-user-manual/2.3/en/topic/exploration-tool', 'https://docs.setics-sttar.com/advanced-designer-user-manual/2.3/fr/topic/installing-a-network-license-on-the-license-server', 'https://docs.setics-sttar.com/advanced-designer-user-manual/2.3/fr/topic/file-menu', 'https://docs.setics-sttar.com/advanced-designer-user-manual/2.3/en/topic/node-fusion-tool', 'https://docs.setics-sttar.com/advanced-designer-user-manual/2.3/fr/topic/naming-rules-variables?q=import+engineering+rules', 'https://docs.setics-sttar.com/advanced-designer-user-manual/2.3/en/topic/project-migration-from-v20-to-v22', 'https://docs.setics-sttar.com/advanced-designer-user-manual/2.3/en/topic/cable-system-commands', 'https://docs.setics-sttar.com/advanced-designer-user-manual/2.3/en/topic/search-by-cost-effectiveness-using-virtual-costs-weights', 'https://docs.setics-sttar.com/advanced-designer-user-manual/2.3/fr/topic/tools-menu#404', 'https://docs.setics-sttar.com/advanced-designer-user-manual/2.3/fr/topic/infrastructure-main-window', 'https://docs.setics-sttar.com/advanced-designer-user-manual/2.3/fr/topic/migration', 'https://docs.setics-sttar.com/advanced-designer-user-manual/2.3/en/topic/splice-closure-datasheet?q=import+engineering+rules', 'https://docs.setics-sttar.com/advanced-designer-user-manual/2.3/fr/topic/splice-closure-plans', 'https://docs.setics-sttar.com/advanced-designer-user-manual/2.3/fr/topic/project-summary-data', 'https://docs.setics-sttar.com/advanced-designer-user-manual/2.3/fr/topic/glossary2', 'https://docs.setics-sttar.com/advanced-designer-user-manual/2.3/en/topic/summary-report-options', 'https://docs.setics-sttar.com/advanced-designer-user-manual/2.3/en/topic/splice-closures2', 'https://docs.setics-sttar.com/advanced-designer-user-manual/2.3/en/topic/split-lines-by-points2?q=import+engineering+rules', 'https://docs.setics-sttar.com/advanced-designer-user-manual/2.3/fr/topic/plugins2', 'https://docs.setics-sttar.com/advanced-designer-user-manual/2.3/fr/topic/splice-closures2', 'https://docs.setics-sttar.com/advanced-designer-user-manual/2.3/en/topic/configure-the-project', 'https://docs.setics-sttar.com/advanced-designer-user-manual/2.3/en/topic/general-project-properties', 'https://docs.setics-sttar.com/advanced-designer-user-manual/2.3/fr/topic/installation', 'https://docs.setics-sttar.com/advanced-designer-user-manual/2.3/fr/topic/main-application-window', 'https://docs.setics-sttar.com/advanced-designer-user-manual/2.3/en/topic/conduit-system-model', 'https://docs.setics-sttar.com/advanced-designer-user-manual/2.3/en/topic/engineering-properties?q=import+engineering+rules', 'https://docs.setics-sttar.com/advanced-designer-user-manual/2.3/en/topic/data2?q=import+engineering+rules', 'https://docs.setics-sttar.com/advanced-designer-user-manual/2.3/fr/topic/available-equipments', 'https://docs.setics-sttar.com/advanced-designer-user-manual/2.3/fr/topic/dimensioning?q=import+engineering+rules', 'https://docs.setics-sttar.com/advanced-designer-user-manual/2.3/en/topic/summary-report-graphs', 'https://docs.setics-sttar.com/advanced-designer-user-manual/2.3/en/topic/routing-main-window', 'https://docs.setics-sttar.com/advanced-designer-user-manual/2.3/fr/topic/split-points-by-capacity', 'https://docs.setics-sttar.com/advanced-designer-user-manual/2.3/en/topic/infrastructure-tree', 'https://docs.setics-sttar.com/advanced-designer-user-manual/2.3/en/topic/network-endpoints-report', 'https://docs.setics-sttar.com/advanced-designer-user-manual/2.3/fr/topic/work-tools', 'https://docs.setics-sttar.com/advanced-designer-user-manual/2.3/en/topic/cable-diagram-options', 'https://docs.setics-sttar.com/advanced-designer-user-manual/2.3/fr/topic/optical-routes', 'https://docs.setics-sttar.com/advanced-designer-user-manual/2.3/en/topic/parameters-sheet', 'https://docs.setics-sttar.com/advanced-designer-user-manual/2.3/fr/topic/network-pathway-access-structures-report', 'https://docs.setics-sttar.com/advanced-designer-user-manual/2.3/fr/topic/table-sheet', 'https://docs.setics-sttar.com/advanced-designer-user-manual/2.3/fr/topic/duct-assembly-datasheet', 'https://docs.setics-sttar.com/advanced-designer-user-manual/2.3/fr/topic/cables2', 'https://docs.setics-sttar.com/advanced-designer-user-manual/2.3/fr/topic/architecture-context-menus#404', 'https://docs.setics-sttar.com/advanced-designer-user-manual/2.3/en/topic/underlying-infrastructure', 'https://docs.setics-sttar.com/advanced-designer-user-manual/2.3/fr/topic/topology', 'https://docs.setics-sttar.com/advanced-designer-user-manual/2.3/en/topic/costs', 'https://docs.setics-sttar.com/advanced-designer-user-manual/2.3/fr/topic/cabinet-datasheet', 'https://docs.setics-sttar.com/advanced-designer-user-manual/2.3/en/topic/shortcuts?q=import+engineering+rules', 'https://docs.setics-sttar.com/advanced-designer-user-manual/2.3/fr/topic/user-interface-map-tab', 'https://docs.setics-sttar.com/advanced-designer-user-manual/2.3/fr/topic/import-infrastructure-data', 'https://docs.setics-sttar.com/advanced-designer-user-manual/2.3/fr/topic/start-network-optimization', 'https://docs.setics-sttar.com/advanced-designer-user-manual/2.3/fr/topic/import-passive-architecture-data', 'https://docs.setics-sttar.com/advanced-designer-user-manual/2.3/en/topic/cables3', 'https://docs.setics-sttar.com/advanced-designer-user-manual/2.3/fr/topic/distance-measuring-tool', 'https://docs.setics-sttar.com/advanced-designer-user-manual/2.3/en/topic/architecture-layers', 'https://docs.setics-sttar.com/advanced-designer-user-manual/2.3/en/topic/project-menu', 'https://docs.setics-sttar.com/advanced-designer-user-manual/2.3/en/topic/network-service-areas-report', 'https://docs.setics-sttar.com/advanced-designer-user-manual/2.3/en/topic/equipment2', 'https://docs.setics-sttar.com/advanced-designer-user-manual/2.3/en/topic/glossary2?q=import+engineering+rules', 'https://docs.setics-sttar.com/advanced-designer-user-manual/2.3/en/topic/cable-system-main-window', 'https://docs.setics-sttar.com/advanced-designer-user-manual/2.3/fr/topic/cable-system-model']\n"
     ]
    }
   ],
   "source": [
    "added_count, skipped_count, skipped_sources = await store.add_documents(\n",
    "    documents=chunks2, ids=ids2, collection_name=collection_name\n",
    ")\n",
    "\n",
    "print(f\"Added {added_count} chunks to the collection\")\n",
    "print(f\"Skipped {skipped_count} chunks\")\n",
    "print(f\"Skipped sources: {skipped_sources}\")"
   ]
  },
  {
   "cell_type": "code",
   "execution_count": 20,
   "metadata": {},
   "outputs": [
    {
     "data": {
      "text/plain": [
       "994"
      ]
     },
     "execution_count": 20,
     "metadata": {},
     "output_type": "execute_result"
    }
   ],
   "source": [
    "client.get_collection(collection_name).count()"
   ]
  },
  {
   "cell_type": "code",
   "execution_count": 9,
   "metadata": {},
   "outputs": [
    {
     "name": "stdout",
     "output_type": "stream",
     "text": [
      "Created 1145 chunks\n"
     ]
    }
   ],
   "source": [
    "processor = DocumentsPreprocessing()\n",
    "chunks, ids = await processor(documents=docs)\n",
    "\n",
    "print(f\"Created {len(chunks)} chunks\")"
   ]
  },
  {
   "cell_type": "code",
   "execution_count": 10,
   "metadata": {},
   "outputs": [
    {
     "name": "stdout",
     "output_type": "stream",
     "text": [
      "Added 1145 chunks to the collection\n",
      "Skipped 0 chunks\n",
      "Skipped sources: []\n"
     ]
    }
   ],
   "source": [
    "added_count, skipped_count, skipped_sources = await store.add_documents(\n",
    "    documents=chunks, ids=ids, collection_name=collection_name\n",
    ")\n",
    "\n",
    "print(f\"Added {added_count} chunks to the collection\")\n",
    "print(f\"Skipped {skipped_count} chunks\")\n",
    "print(f\"Skipped sources: {skipped_sources}\")"
   ]
  },
  {
   "cell_type": "code",
   "execution_count": 24,
   "metadata": {},
   "outputs": [
    {
     "name": "stderr",
     "output_type": "stream",
     "text": [
      "INFO:httpx:HTTP Request: GET http://localhost:8000/api/v2/tenants/default_tenant/databases/default_database/collections/knowledge_base \"HTTP/1.1 200 OK\"\n",
      "INFO:httpx:HTTP Request: GET http://localhost:8000/api/v2/tenants/default_tenant/databases/default_database/collections/f88eb9a8-88ce-41ff-bfe9-ca83d1235c65/count \"HTTP/1.1 200 OK\"\n"
     ]
    },
    {
     "data": {
      "text/plain": [
       "1145"
      ]
     },
     "execution_count": 24,
     "metadata": {},
     "output_type": "execute_result"
    }
   ],
   "source": [
    "client.get_collection(collection_name).count()"
   ]
  },
  {
   "cell_type": "code",
   "execution_count": 16,
   "metadata": {},
   "outputs": [],
   "source": [
    "# query = \"What is the purpose of the Advanced Designer?\"\n",
    "query = \"What can you tell me about underground fiber architecture for Xplore?\""
   ]
  },
  {
   "cell_type": "code",
   "execution_count": 17,
   "metadata": {},
   "outputs": [
    {
     "name": "stderr",
     "output_type": "stream",
     "text": [
      "INFO:httpx:HTTP Request: GET http://localhost:8000/api/v2/heartbeat \"HTTP/1.1 200 OK\"\n",
      "INFO:httpx:HTTP Request: POST http://localhost:8000/api/v2/tenants/default_tenant/databases/default_database/collections \"HTTP/1.1 200 OK\"\n",
      "INFO:httpx:HTTP Request: POST http://localhost:8000/api/v2/tenants/default_tenant/databases/default_database/collections \"HTTP/1.1 200 OK\"\n",
      "INFO:httpx:HTTP Request: POST https://api.openai.com/v1/chat/completions \"HTTP/1.1 200 OK\"\n",
      "INFO:langchain.retrievers.multi_query:Generated queries: [\"1. Can you provide information on the underground fiber architecture used in Xplore's network?  \", \"2. What are the key features and benefits of Xplore's underground fiber architecture?  \", '3. How does Xplore implement underground fiber architecture in its infrastructure?']\n",
      "INFO:httpx:HTTP Request: POST https://api.openai.com/v1/embeddings \"HTTP/1.1 200 OK\"\n",
      "INFO:httpx:HTTP Request: POST https://api.openai.com/v1/embeddings \"HTTP/1.1 200 OK\"\n",
      "INFO:httpx:HTTP Request: POST https://api.openai.com/v1/embeddings \"HTTP/1.1 200 OK\"\n",
      "INFO:httpx:HTTP Request: POST http://localhost:8000/api/v2/tenants/default_tenant/databases/default_database/collections/e6c0c530-8880-4c21-aa0c-08e6b60227ba/query \"HTTP/1.1 200 OK\"\n",
      "INFO:httpx:HTTP Request: POST http://localhost:8000/api/v2/tenants/default_tenant/databases/default_database/collections/e6c0c530-8880-4c21-aa0c-08e6b60227ba/query \"HTTP/1.1 200 OK\"\n",
      "INFO:httpx:HTTP Request: POST http://localhost:8000/api/v2/tenants/default_tenant/databases/default_database/collections/e6c0c530-8880-4c21-aa0c-08e6b60227ba/query \"HTTP/1.1 200 OK\"\n",
      "INFO:httpx:HTTP Request: POST https://api.openai.com/v1/embeddings \"HTTP/1.1 200 OK\"\n",
      "INFO:httpx:HTTP Request: POST http://localhost:8000/api/v2/tenants/default_tenant/databases/default_database/collections/e6c0c530-8880-4c21-aa0c-08e6b60227ba/query \"HTTP/1.1 200 OK\"\n"
     ]
    }
   ],
   "source": [
    "retriever = MultiQRerankedRetriever()\n",
    "results = await retriever(query=query, collection_name=collection_name)"
   ]
  },
  {
   "cell_type": "code",
   "execution_count": 18,
   "metadata": {},
   "outputs": [
    {
     "data": {
      "text/plain": [
       "[Document(metadata={'id': '2110-underground-fibre-and-conduit-archite-21-8873b4f3', 'relevance_score': 0.99755037, 'total_pages': 8, 'document_type': 'pdf', 'moddate': '2024-02-27T07:37:23-08:00', 'subject': '', 'source': '/var/folders/v3/4_zd_t995l7_jbs0bxlpsvj80000gn/T/tmpuux65wo3/2.1.10 Underground Fibre and Conduit Architecture for FSA.pdf', 'file_path': '/var/folders/v3/4_zd_t995l7_jbs0bxlpsvj80000gn/T/tmpuux65wo3/2.1.10 Underground Fibre and Conduit Architecture for FSA.pdf', 'modDate': \"D:20240227073723-08'00'\", 'title': 'Microsoft Word - 2.1.10 Underground Fibre and Conduit Architecture.docx', 'keywords': '', 'producer': 'Microsoft: Print To PDF', 'creationDate': \"D:20240227073723-08'00'\", 'author': 'KathrinKr', 'page': 6, 'trapped': '', 'creationdate': '2024-02-27T07:37:23-08:00', 'format': 'PDF 1.7', 'creator': ''}, page_content='# 6 Drop Cable\\n\\nXplore has approved two types of fibre drop cables:\\n• Pre-Connectorized 1F Round Drop cable (Round drop) for Underground application.\\n• Pre-Connectorized 1F Flat Drop cable (Flat drop) for Aerial application.\\nAll drops will run from strategically placed MPT location to feed every SxU premise in the FSA.\\nThe drop conduit must be placed with a tracer wire up to the property line.\\nAll underground designs will require 18/14mm or 14/10mm to be used for drop conduit.\\nNote: Xplore is only authorized to extend fibre facility to a SxU demarcation (from property to NID) if there\\nis a RoE agreement signed.\\n**See Figure 3** for reference.\\n\\n**Figure 3: Conduit and Drop Cable Placement in Pre-Sale and No Pre-Sale Scenario**'),\n",
       " Document(metadata={'id': '2110-underground-fibre-and-conduit-archite-9-59d387d9', 'relevance_score': 0.9972597, 'total_pages': 8, 'file_path': '/var/folders/v3/4_zd_t995l7_jbs0bxlpsvj80000gn/T/tmpuux65wo3/2.1.10 Underground Fibre and Conduit Architecture for FSA.pdf', 'creationdate': '2024-02-27T07:37:23-08:00', 'document_type': 'pdf', 'moddate': '2024-02-27T07:37:23-08:00', 'page': 3, 'author': 'KathrinKr', 'trapped': '', 'keywords': '', 'title': 'Microsoft Word - 2.1.10 Underground Fibre and Conduit Architecture.docx', 'modDate': \"D:20240227073723-08'00'\", 'format': 'PDF 1.7', 'producer': 'Microsoft: Print To PDF', 'creator': '', 'subject': '', 'creationDate': \"D:20240227073723-08'00'\", 'source': '/var/folders/v3/4_zd_t995l7_jbs0bxlpsvj80000gn/T/tmpuux65wo3/2.1.10 Underground Fibre and Conduit Architecture for FSA.pdf'}, page_content='This guideline outlines and defines the best practices and standards for the placement of new distribution\\nconduit and fibre drop cable within Xplore Fibre Servicing Area (FSA) design, offering insights to\\nengineers and technicians to optimize network performance, increase installation efficiencies and\\nminimize maintenance efforts.\\nThe main characteristics of the underground drop cable and conduit architecture are:\\n• Every Single Family/Business Unit (SxU) premise will have a drop conduit placed to property line.\\n• A fibre drop cable will be placed to demarcation location, where Network Interface Device (NID) is\\nplaced, IF there is a Right-of-Entry (RoE) agreement signed prior to FSA build.\\n• Drop conduit will end at a flower pot placed at property line (P/L) if there is no RoE agreement\\nsigned prior to FSA build.\\n• Maximum drop conduit length between pull boxes is 100m (standard) and 200m in rural settings.\\n• Round Drop cable is recommended in underground pulling application.'),\n",
       " Document(metadata={'id': '2110-underground-fibre-and-conduit-archite-0-cabe8a8b', 'relevance_score': 0.9970363, 'author': 'KathrinKr', 'producer': 'Microsoft: Print To PDF', 'moddate': '2024-02-27T07:37:23-08:00', 'modDate': \"D:20240227073723-08'00'\", 'source': '/var/folders/v3/4_zd_t995l7_jbs0bxlpsvj80000gn/T/tmpuux65wo3/2.1.10 Underground Fibre and Conduit Architecture for FSA.pdf', 'creator': '', 'document_type': 'pdf', 'title': 'Microsoft Word - 2.1.10 Underground Fibre and Conduit Architecture.docx', 'file_path': '/var/folders/v3/4_zd_t995l7_jbs0bxlpsvj80000gn/T/tmpuux65wo3/2.1.10 Underground Fibre and Conduit Architecture for FSA.pdf', 'total_pages': 8, 'trapped': '', 'page': 0, 'format': 'PDF 1.7', 'keywords': '', 'creationDate': \"D:20240227073723-08'00'\", 'creationdate': '2024-02-27T07:37:23-08:00', 'subject': ''}, page_content='Underground Fibre and Conduit Architecture for FSA\\nConfidential\\n\\nUnderground Fibre and Conduit\\nArchitecture for FSA\\n\\nBest Practice & Guideline\\n\\nVersion 1.0\\n\\nDate of Issue:\\n2024/Feb/15\\n\\nDocument Number:\\n\\n### 2.1.10 Revision\\n\\n[Publish Date]\\n\\n[IMAGE: Xplore logo featuring the brand name \"Xplore\" in a modern font alongside a stylized graphic of the letter \"X.\" Xplore®]')]"
      ]
     },
     "execution_count": 18,
     "metadata": {},
     "output_type": "execute_result"
    }
   ],
   "source": [
    "results"
   ]
  },
  {
   "cell_type": "code",
   "execution_count": 27,
   "metadata": {},
   "outputs": [
    {
     "name": "stdout",
     "output_type": "stream",
     "text": [
      "page_content='!To edit the cable system a Sttar Advanced Designer is…\n",
      "\n",
      "Project Configuration File\n",
      "\n",
      "EXPORT NETWORK DATA » Project Configuration File\n",
      "\n",
      " You can save the project in two different formats: *.sdproj and *.sdconfig. Both formats allow you to save the project settings, however they differ on how the data is saved.\n",
      "\n",
      "The *.sdproj format independently contains all the data, so it can be used completely…\n",
      "\n",
      "Cable System Tab\n",
      "\n",
      "USER INTERFACE » Cable System Tab\n",
      "\n",
      " The Cable System window allows you to set level by level, support by support, the cable sizing rules.\n",
      "\n",
      " Main window\n",
      " Commands and Filters\n",
      " Splicing properties\n",
      " Cable Properties\n",
      " Available Cables\n",
      " Available Equipment\n",
      "\n",
      "!To edit the cable system a Sttar Advanced…\n",
      "\n",
      "Preprocess with FME\n",
      "\n",
      "APPENDICES » Setting of Filters and Preprocessing of Input Data » Preprocess with FME' metadata={'id': 'import-engineering-rules-739-bd4de5dc', 'relevance_score': 0.9990605, 'language': 'en', 'source': 'https://docs.setics-sttar.com/advanced-designer-user-manual/2.3/en/topic/import-engineering-rules', 'description': '', 'title': 'Search - Setics Sttar Advanced Designer  |  User Manual - Version 2.3'}\n"
     ]
    }
   ],
   "source": [
    "print(results[0])"
   ]
  },
  {
   "cell_type": "code",
   "execution_count": null,
   "metadata": {},
   "outputs": [],
   "source": []
  },
  {
   "cell_type": "markdown",
   "metadata": {},
   "source": [
    "### prototyping\n"
   ]
  },
  {
   "cell_type": "code",
   "execution_count": null,
   "metadata": {},
   "outputs": [],
   "source": [
    "llm = ChatOpenAI(\n",
    "    model=\"gpt-4o-mini\",\n",
    "    temperature=0,\n",
    "    api_key=config.OPENAI_API_KEY,\n",
    "    max_tokens=1000,\n",
    ")"
   ]
  },
  {
   "cell_type": "code",
   "execution_count": null,
   "metadata": {},
   "outputs": [],
   "source": [
    "pdf_json_path = pdf_data_src / \"xplore_pdf_3_clean.json\"\n",
    "pdf_docs = json_to_documents(filename=pdf_json_path)\n",
    "len(pdf_docs)"
   ]
  },
  {
   "cell_type": "code",
   "execution_count": null,
   "metadata": {},
   "outputs": [],
   "source": [
    "web_json_path = web_data_src / \"setics_stad_docs_clean.json\"\n",
    "web_docs = json_to_documents(filename=web_json_path)\n",
    "len(web_docs)"
   ]
  },
  {
   "cell_type": "code",
   "execution_count": null,
   "metadata": {},
   "outputs": [],
   "source": [
    "web_json_path_2 = web_data_src / \"setics_stpl_docs_clean.json\"\n",
    "web_docs_2 = json_to_documents(filename=web_json_path_2)\n",
    "len(web_docs_2)"
   ]
  },
  {
   "cell_type": "code",
   "execution_count": null,
   "metadata": {},
   "outputs": [],
   "source": [
    "img_json_path = web_data_src / \"setics_stad_img_docs.json\"\n",
    "img_docs = json_to_documents(filename=img_json_path)\n",
    "len(img_docs)"
   ]
  },
  {
   "cell_type": "code",
   "execution_count": null,
   "metadata": {},
   "outputs": [],
   "source": [
    "# for i, doc in enumerate(pdf_docs):\n",
    "#     print(f\"Doc {i}: length {len(doc.page_content)}\")"
   ]
  },
  {
   "cell_type": "code",
   "execution_count": null,
   "metadata": {},
   "outputs": [],
   "source": [
    "pdf_chunks = text_splitter_recursive_char(pdf_docs)\n",
    "len(pdf_chunks)"
   ]
  },
  {
   "cell_type": "code",
   "execution_count": null,
   "metadata": {},
   "outputs": [],
   "source": [
    "# for i, doc in enumerate(web_docs):\n",
    "#     print(f\"Doc {i}: length {len(doc.page_content)}\")"
   ]
  },
  {
   "cell_type": "code",
   "execution_count": null,
   "metadata": {},
   "outputs": [],
   "source": [
    "web_chunks = text_splitter_recursive_char(web_docs)\n",
    "len(web_chunks)"
   ]
  },
  {
   "cell_type": "code",
   "execution_count": null,
   "metadata": {},
   "outputs": [],
   "source": [
    "web_chunks_2 = text_splitter_recursive_char(web_docs_2)\n",
    "len(web_chunks_2)"
   ]
  },
  {
   "cell_type": "code",
   "execution_count": null,
   "metadata": {},
   "outputs": [],
   "source": [
    "# for i, doc in enumerate(web_chunks):\n",
    "#     print(f\"Doc {i}: length {len(doc.page_content)}\")"
   ]
  },
  {
   "cell_type": "code",
   "execution_count": null,
   "metadata": {},
   "outputs": [],
   "source": [
    "pdf_chunks_ids = create_chunk_ids(pdf_chunks)\n",
    "web_chunks_ids = create_chunk_ids(web_chunks)\n",
    "web_chunks_2_ids = create_chunk_ids(web_chunks_2)\n",
    "\n",
    "img_ids = [i.metadata[\"id\"] for i in img_docs]\n",
    "\n",
    "print(\n",
    "    pdf_chunks_ids[:2], web_chunks_ids[:2], web_chunks_2_ids[:2], img_ids[:2], sep=\"\\n\"\n",
    ")"
   ]
  },
  {
   "cell_type": "code",
   "execution_count": null,
   "metadata": {},
   "outputs": [],
   "source": [
    "# pprint(web_chunks[10].metadata)"
   ]
  },
  {
   "cell_type": "code",
   "execution_count": null,
   "metadata": {},
   "outputs": [],
   "source": [
    "openai_embedding = OpenAIEmbeddings(\n",
    "    model=\"text-embedding-3-large\", openai_api_key=config.OPENAI_API_KEY\n",
    ")"
   ]
  },
  {
   "cell_type": "code",
   "execution_count": null,
   "metadata": {},
   "outputs": [],
   "source": [
    "vector_store = Chroma(\n",
    "    client=client,\n",
    "    collection_name=collection.name,\n",
    "    embedding_function=openai_embedding,\n",
    ")"
   ]
  },
  {
   "cell_type": "code",
   "execution_count": null,
   "metadata": {},
   "outputs": [],
   "source": [
    "documents_with_ids = [\n",
    "    (web_chunks, web_chunks_ids),\n",
    "    (pdf_chunks, pdf_chunks_ids),\n",
    "    (web_chunks_2, web_chunks_2_ids),\n",
    "    (img_docs, img_ids),\n",
    "]\n",
    "\n",
    "for docs, ids in documents_with_ids:\n",
    "    vector_store.add_documents(documents=docs, ids=ids)"
   ]
  },
  {
   "cell_type": "code",
   "execution_count": null,
   "metadata": {},
   "outputs": [],
   "source": [
    "collection.count()"
   ]
  },
  {
   "cell_type": "code",
   "execution_count": null,
   "metadata": {},
   "outputs": [],
   "source": [
    "# retriever = vector_store.as_retriever(\n",
    "#     search_type=\"mmr\",\n",
    "#     # search_type=\"similarity_score_threshold\",\n",
    "#     # search_kwargs={\"k\": 3, \"score_threshold\": 0.5},\n",
    "#     search_kwargs={\"k\": 3},\n",
    "# )"
   ]
  },
  {
   "cell_type": "code",
   "execution_count": null,
   "metadata": {},
   "outputs": [],
   "source": [
    "# retriever = MultiQueryRetriever.from_llm(retriever=vector_store.as_retriever(), llm=llm)\n",
    "\n",
    "# retriever = SelfQueryRetriever.from_llm(\n",
    "#     llm=llm,\n",
    "#     vectorstore=vector_store,\n",
    "# )"
   ]
  },
  {
   "cell_type": "code",
   "execution_count": null,
   "metadata": {},
   "outputs": [],
   "source": [
    "# wrapping base retriever with FlashRank compressor\n",
    "\n",
    "# create MultiQueryRetriever\n",
    "base_retriever = vector_store.as_retriever(search_kwargs={\"k\": 10})\n",
    "multi_query_retriever = MultiQueryRetriever.from_llm(retriever=base_retriever, llm=llm)\n",
    "\n",
    "# add reranker on top\n",
    "compressor = FlashrankRerank(top_n=3)\n",
    "retriever = ContextualCompressionRetriever(\n",
    "    base_compressor=compressor, base_retriever=multi_query_retriever\n",
    ")"
   ]
  },
  {
   "cell_type": "code",
   "execution_count": null,
   "metadata": {},
   "outputs": [],
   "source": [
    "# query = \"What is the installation requirement for flower pot?\"\n",
    "# query = \"What can you tell me about Setics Sttar?\"\n",
    "# query = \"In Sttar, how to add a new infrastructure layer?\"\n",
    "# query = \"In Sttar, how to manually split some lines in the interface, in the map view?\"\n",
    "# query = \" In sttar, how can we manage the support properties, for the reusable infrastructure?\"\n",
    "query = \" What is the differences between the advanced designer and the planner?\""
   ]
  },
  {
   "cell_type": "code",
   "execution_count": null,
   "metadata": {},
   "outputs": [],
   "source": [
    "# # Set logging for the queries\n",
    "# import logging\n",
    "\n",
    "# logging.basicConfig()\n",
    "# logging.getLogger(\"langchain.retrievers.multi_query\").setLevel(logging.INFO)"
   ]
  },
  {
   "cell_type": "code",
   "execution_count": null,
   "metadata": {},
   "outputs": [],
   "source": [
    "results = retriever.invoke(query)\n",
    "results"
   ]
  },
  {
   "cell_type": "code",
   "execution_count": null,
   "metadata": {},
   "outputs": [],
   "source": [
    "# for result in results:\n",
    "#     print(result.page_content)\n",
    "#     print(\"\\n\\n===\\n\\n\")"
   ]
  },
  {
   "cell_type": "markdown",
   "metadata": {},
   "source": [
    "### chatbot\n"
   ]
  },
  {
   "cell_type": "code",
   "execution_count": 13,
   "metadata": {},
   "outputs": [],
   "source": [
    "llm = ChatOpenAI(\n",
    "    model=\"gpt-4o-mini\",\n",
    "    temperature=0,\n",
    "    api_key=config.OPENAI_API_KEY,\n",
    "    # max_tokens=1000,\n",
    ")"
   ]
  },
  {
   "cell_type": "code",
   "execution_count": 14,
   "metadata": {},
   "outputs": [
    {
     "name": "stderr",
     "output_type": "stream",
     "text": [
      "INFO:httpx:HTTP Request: POST https://api.openai.com/v1/chat/completions \"HTTP/1.1 200 OK\"\n"
     ]
    }
   ],
   "source": [
    "template = \"\"\"You are an assistant for question-answering tasks.\n",
    "Use the following pieces of retrieved context to answer the question.\n",
    "If you don't know the answer, just say that you don't know.\n",
    "Use three sentences maximum and keep the answer concise.\n",
    "Context: {context}\n",
    "Question: {question}\n",
    "Answer:\"\"\"\n",
    "\n",
    "prompt = PromptTemplate.from_template(template)\n",
    "\n",
    "docs_content = \"\\n\\n\".join(doc.page_content for doc in results)\n",
    "\n",
    "messages = prompt.invoke({\"question\": query, \"context\": docs_content})\n",
    "response = llm.invoke(messages)"
   ]
  },
  {
   "cell_type": "code",
   "execution_count": 15,
   "metadata": {},
   "outputs": [
    {
     "name": "stdout",
     "output_type": "stream",
     "text": [
      "('The purpose of the Sttar Advanced Designer is to automatically create the '\n",
      " 'architecture and size the network by applying specified engineering rules. '\n",
      " 'It organizes the access network as a hierarchical tree structure, with a '\n",
      " 'central office at the top and interconnected nodes managing specific service '\n",
      " 'areas. This tool facilitates efficient project configuration and cable '\n",
      " 'system management.')\n"
     ]
    }
   ],
   "source": [
    "pprint(response.content)"
   ]
  },
  {
   "cell_type": "code",
   "execution_count": 32,
   "metadata": {},
   "outputs": [
    {
     "name": "stderr",
     "output_type": "stream",
     "text": [
      "INFO:httpx:HTTP Request: GET http://localhost:8000/api/v2/tenants/default_tenant/databases/default_database/collections/local_collection \"HTTP/1.1 200 OK\"\n",
      "INFO:httpx:HTTP Request: POST http://localhost:8000/api/v2/tenants/default_tenant/databases/default_database/collections/e83ff1ff-b3c7-428c-a85b-59afcf629143/get \"HTTP/1.1 200 OK\"\n"
     ]
    },
    {
     "data": {
      "text/plain": [
       "{'ids': ['import-engineering-rules-739-bd4de5dc'],\n",
       " 'embeddings': array([[ 0.00307267,  0.0403012 , -0.01763814, ..., -0.00069231,\n",
       "          0.00238089, -0.02035431]]),\n",
       " 'metadatas': [{'id': 'import-engineering-rules-739-bd4de5dc',\n",
       "   'title': 'Search - Setics Sttar Advanced Designer  |  User Manual - Version 2.3',\n",
       "   'description': '',\n",
       "   'source': 'https://docs.setics-sttar.com/advanced-designer-user-manual/2.3/en/topic/import-engineering-rules',\n",
       "   'language': 'en'}],\n",
       " 'documents': ['!To edit the cable system a Sttar Advanced Designer is…\\n\\nProject Configuration File\\n\\nEXPORT NETWORK DATA » Project Configuration File\\n\\n You can save the project in two different formats: *.sdproj and *.sdconfig. Both formats allow you to save the project settings, however they differ on how the data is saved.\\n\\nThe *.sdproj format independently contains all the data, so it can be used completely…\\n\\nCable System Tab\\n\\nUSER INTERFACE » Cable System Tab\\n\\n The Cable System window allows you to set level by level, support by support, the cable sizing rules.\\n\\n Main window\\n Commands and Filters\\n Splicing properties\\n Cable Properties\\n Available Cables\\n Available Equipment\\n\\n!To edit the cable system a Sttar Advanced…\\n\\nPreprocess with FME\\n\\nAPPENDICES » Setting of Filters and Preprocessing of Input Data » Preprocess with FME'],\n",
       " 'data': None,\n",
       " 'uris': None,\n",
       " 'included': ['documents', 'metadatas', 'embeddings']}"
      ]
     },
     "execution_count": 32,
     "metadata": {},
     "output_type": "execute_result"
    }
   ],
   "source": [
    "collection = client.get_collection(collection_name)\n",
    "collection.get(\n",
    "    ids=results[0].metadata[\"id\"], include=[\"documents\", \"metadatas\", \"embeddings\"]\n",
    ")"
   ]
  },
  {
   "cell_type": "code",
   "execution_count": null,
   "metadata": {},
   "outputs": [],
   "source": []
  },
  {
   "cell_type": "code",
   "execution_count": null,
   "metadata": {},
   "outputs": [],
   "source": []
  },
  {
   "cell_type": "code",
   "execution_count": null,
   "metadata": {},
   "outputs": [],
   "source": []
  },
  {
   "cell_type": "code",
   "execution_count": null,
   "metadata": {},
   "outputs": [],
   "source": []
  }
 ],
 "metadata": {
  "kernelspec": {
   "display_name": ".venv",
   "language": "python",
   "name": "python3"
  },
  "language_info": {
   "codemirror_mode": {
    "name": "ipython",
    "version": 3
   },
   "file_extension": ".py",
   "mimetype": "text/x-python",
   "name": "python",
   "nbconvert_exporter": "python",
   "pygments_lexer": "ipython3",
   "version": "3.12.9"
  }
 },
 "nbformat": 4,
 "nbformat_minor": 2
}
