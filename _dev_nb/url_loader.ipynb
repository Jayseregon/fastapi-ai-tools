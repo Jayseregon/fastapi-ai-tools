{
 "cells": [
  {
   "cell_type": "code",
   "execution_count": null,
   "metadata": {},
   "outputs": [],
   "source": [
    "from src.services.loaders.web import SeticsLoader\n",
    "# from src.services.loaders.lib import UrlDiscovery"
   ]
  },
  {
   "cell_type": "code",
   "execution_count": null,
   "metadata": {},
   "outputs": [],
   "source": [
    "username = \"jeremie.bitsch@telecon.ca\"\n",
    "password = \"sujnux-6fadfu-ryJnok\"\n",
    "\n",
    "login_url = \"https://support.setics-sttar.com/en/support/login\"\n",
    "protected_url = \"https://docs.setics-sttar.com/advanced-designer-user-manual/2.3/en/topic/introduction\"\n",
    "base_url = \"https://docs.setics-sttar.com/advanced-designer-user-manual/2.3/en/\""
   ]
  },
  {
   "cell_type": "code",
   "execution_count": null,
   "metadata": {},
   "outputs": [],
   "source": [
    "# setics_url_json = json.load(open(\"new_urls.json\"))\n",
    "# len(setics_url_json)"
   ]
  },
  {
   "cell_type": "code",
   "execution_count": null,
   "metadata": {},
   "outputs": [],
   "source": [
    "async with SeticsLoader() as service:\n",
    "    await service.authenticate(\n",
    "        username=username,\n",
    "        password=password,\n",
    "        login_url=login_url,\n",
    "        check_url=protected_url,\n",
    "    )\n",
    "\n",
    "    urls = await service.discover_urls(base_url=base_url, max_depth=1)\n",
    "\n",
    "\n",
    "len(urls)"
   ]
  },
  {
   "cell_type": "code",
   "execution_count": null,
   "metadata": {},
   "outputs": [],
   "source": [
    "# async with SeticsLoader() as service:\n",
    "#     await service.authenticate(\n",
    "#         username=username,\n",
    "#         password=password,\n",
    "#         login_url=login_url,\n",
    "#         check_url=protected_url,\n",
    "#     )\n",
    "#     docs = await service.load_documents(urls=setics_url_json[10:15])\n",
    "\n",
    "# for doc in docs:\n",
    "#     print(doc.metadata)"
   ]
  },
  {
   "cell_type": "code",
   "execution_count": null,
   "metadata": {},
   "outputs": [],
   "source": [
    "# python_url = \"https://docs.python.org/3/library/asyncio-sync.html#asyncio.Condition\"\n",
    "\n",
    "# async with PublicLoader() as service:\n",
    "#     docs = await service.load_documents(urls=python_url)\n",
    "\n",
    "# print(docs[0].metadata)"
   ]
  },
  {
   "cell_type": "code",
   "execution_count": null,
   "metadata": {},
   "outputs": [],
   "source": []
  }
 ],
 "metadata": {
  "kernelspec": {
   "display_name": ".venv",
   "language": "python",
   "name": "python3"
  },
  "language_info": {
   "codemirror_mode": {
    "name": "ipython",
    "version": 3
   },
   "file_extension": ".py",
   "mimetype": "text/x-python",
   "name": "python",
   "nbconvert_exporter": "python",
   "pygments_lexer": "ipython3",
   "version": "3.12.9"
  }
 },
 "nbformat": 4,
 "nbformat_minor": 2
}
