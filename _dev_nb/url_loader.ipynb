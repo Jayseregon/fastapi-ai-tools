{
 "cells": [
  {
   "cell_type": "code",
   "execution_count": 3,
   "metadata": {},
   "outputs": [],
   "source": [
    "from src.services.loaders.web import SeticsLoader\n",
    "from src.configs.env_config import config\n",
    "from src.services.cleaners import SeticsDocumentCleaner\n",
    "from src.services.utils import documents_to_json\n",
    "from pathlib import Path\n",
    "import json"
   ]
  },
  {
   "cell_type": "code",
   "execution_count": 4,
   "metadata": {},
   "outputs": [],
   "source": [
    "login_url = \"https://support.setics-sttar.com/en/support/login\"\n",
    "protected_url = \"https://docs.setics-sttar.com/advanced-designer-user-manual/2.3/en/topic/introduction\"\n",
    "base_url_stad = \"https://docs.setics-sttar.com/advanced-designer-user-manual/2.3/en/\"\n",
    "base_url_stpl = \"https://docs.setics-sttar.com/planner-user-manual/2.3/en/\""
   ]
  },
  {
   "cell_type": "code",
   "execution_count": 5,
   "metadata": {},
   "outputs": [],
   "source": [
    "cleaner = SeticsDocumentCleaner()"
   ]
  },
  {
   "cell_type": "code",
   "execution_count": 6,
   "metadata": {},
   "outputs": [
    {
     "name": "stdout",
     "output_type": "stream",
     "text": [
      "Processing base URL: https://docs.setics-sttar.com/advanced-designer-user-manual/2.3/en/\n",
      "Discovering URLs...\n",
      "Found 525 URLs, saved to _dev_nb/output_data/web_loader/setics_stad_urls.json\n",
      "Loading documents...\n"
     ]
    },
    {
     "name": "stderr",
     "output_type": "stream",
     "text": [
      "Fetching pages: 100%|##########| 525/525 [03:18<00:00,  2.64it/s]\n"
     ]
    },
    {
     "name": "stdout",
     "output_type": "stream",
     "text": [
      "Loaded 525 documents, saved to _dev_nb/output_data/web_loader/setics_stad_docs_raw.json\n",
      "Cleaning documents...\n",
      "Cleaned 525 documents, saved to _dev_nb/output_data/web_loader/setics_stad_docs_clean.json\n",
      "Processing base URL: https://docs.setics-sttar.com/planner-user-manual/2.3/en/\n",
      "Discovering URLs...\n",
      "Found 960 URLs, saved to _dev_nb/output_data/web_loader/setics_stpl_urls.json\n",
      "Loading documents...\n"
     ]
    },
    {
     "name": "stderr",
     "output_type": "stream",
     "text": [
      "Fetching pages: 100%|##########| 960/960 [07:31<00:00,  2.13it/s]\n"
     ]
    },
    {
     "name": "stdout",
     "output_type": "stream",
     "text": [
      "Loaded 960 documents, saved to _dev_nb/output_data/web_loader/setics_stpl_docs_raw.json\n",
      "Cleaning documents...\n",
      "Cleaned 960 documents, saved to _dev_nb/output_data/web_loader/setics_stpl_docs_clean.json\n"
     ]
    }
   ],
   "source": [
    "for name, base_url in [(\"stad\", base_url_stad), (\"stpl\", base_url_stpl)]:\n",
    "    print(f\"Processing base URL: {base_url}\")\n",
    "\n",
    "    async with SeticsLoader() as service:\n",
    "        output_path = Path(\"_dev_nb/output_data/web_loader\")\n",
    "        output_path.mkdir(parents=True, exist_ok=True)\n",
    "\n",
    "        await service.authenticate(\n",
    "            username=config.SETICS_USER,\n",
    "            password=config.SETICS_PWD,\n",
    "            login_url=login_url,\n",
    "            check_url=protected_url,\n",
    "        )\n",
    "\n",
    "        # get all urls from Setics\n",
    "        print(\"Discovering URLs...\")\n",
    "        urls = await service.discover_urls(base_url=base_url, max_depth=4)\n",
    "\n",
    "        # # filter 'en' only urls\n",
    "        # print(\"Filtering URLs...\")\n",
    "        # en_urls = [url for url in urls if \"/en/\" in url]\n",
    "\n",
    "        # ensure files are created\n",
    "        urls_file = output_path / f\"setics_{name}_urls.json\"\n",
    "        docs_file = output_path / f\"setics_{name}_docs_raw.json\"\n",
    "        clean_file = output_path / f\"setics_{name}_docs_clean.json\"\n",
    "\n",
    "        # archive the urls\n",
    "        with open(urls_file, \"w\") as f:\n",
    "            json.dump(urls, f, indent=2)\n",
    "\n",
    "        print(f\"Found {len(urls)} URLs, saved to {urls_file}\")\n",
    "\n",
    "        # load documents from the filtered urls\n",
    "        print(\"Loading documents...\")\n",
    "        docs = await service.load_documents(urls=urls)\n",
    "\n",
    "        # save the documents\n",
    "        documents_to_json(documents=docs, filename=docs_file)\n",
    "\n",
    "        print(f\"Loaded {len(docs)} documents, saved to {docs_file}\")\n",
    "\n",
    "        # clean the documents\n",
    "        print(\"Cleaning documents...\")\n",
    "        cleaned_docs = await cleaner.clean_documents(documents=docs)\n",
    "\n",
    "        # save the cleaned documents\n",
    "        documents_to_json(documents=cleaned_docs, filename=clean_file)\n",
    "\n",
    "        print(f\"Cleaned {len(cleaned_docs)} documents, saved to {clean_file}\")"
   ]
  },
  {
   "cell_type": "code",
   "execution_count": null,
   "metadata": {},
   "outputs": [],
   "source": [
    "# stad_uri = Path(\"_dev_nb/output_data/web_loader\") / \"setics_stad_docs_raw.json\"\n",
    "# stpl_uri = Path(\"_dev_nb/output_data/web_loader\") / \"setics_stpl_docs_raw.json\"\n",
    "\n",
    "# for name, file in [(\"stad\", stad_uri), (\"stpl\", stpl_uri)]:\n",
    "#     print(f\"Processing base URL: {file}\")\n",
    "\n",
    "#     async with SeticsLoader() as service:\n",
    "#         output_path = Path(\"_dev_nb/output_data/web_loader\")\n",
    "#         output_path.mkdir(parents=True, exist_ok=True)\n",
    "\n",
    "#         # ensure files are created\n",
    "#         urls_file = output_path / f\"setics_{name}_urls.json\"\n",
    "#         docs_file = output_path / f\"setics_{name}_docs_raw.json\"\n",
    "#         clean_file = output_path / f\"setics_{name}_docs_clean.json\"\n",
    "\n",
    "#         # load documents from the filtered urls\n",
    "#         print(\"Loading documents...\")\n",
    "#         docs = DocumentJsonToolkit.json_to_documents(filename=file)\n",
    "\n",
    "#         # clean the documents\n",
    "#         print(\"Cleaning documents...\")\n",
    "#         cleaned_docs = await cleaner.clean_documents(documents=docs)\n",
    "\n",
    "#         # save the cleaned documents\n",
    "#         DocumentJsonToolkit.documents_to_json(\n",
    "#             documents=cleaned_docs, filename=clean_file\n",
    "#         )\n",
    "\n",
    "#         print(f\"Cleaned {len(cleaned_docs)} documents, saved to {clean_file}\")"
   ]
  },
  {
   "cell_type": "code",
   "execution_count": null,
   "metadata": {},
   "outputs": [],
   "source": [
    "# setics_docs_uri = Path(\"_dev_nb/output_data/web_loader\") / \"setics_stad_docs_raw.json\"\n",
    "# setics_docs = DocumentJsonToolkit.json_to_documents(setics_docs_uri)\n",
    "# len(setics_docs)"
   ]
  },
  {
   "cell_type": "code",
   "execution_count": null,
   "metadata": {},
   "outputs": [],
   "source": [
    "# sample_docs = setics_docs[:2]"
   ]
  },
  {
   "cell_type": "code",
   "execution_count": null,
   "metadata": {},
   "outputs": [],
   "source": [
    "# raw_data = [doc.page_content for doc in sample_docs]\n",
    "# raw_data"
   ]
  },
  {
   "cell_type": "code",
   "execution_count": null,
   "metadata": {},
   "outputs": [],
   "source": [
    "# cleaner = SeticsDocumentCleaner()\n",
    "# cleaned_docs = await cleaner.clean_documents(documents=sample_docs)"
   ]
  },
  {
   "cell_type": "code",
   "execution_count": null,
   "metadata": {},
   "outputs": [],
   "source": [
    "# raw_clean = [doc.page_content for doc in cleaned_docs]\n",
    "# raw_clean"
   ]
  },
  {
   "cell_type": "code",
   "execution_count": null,
   "metadata": {},
   "outputs": [],
   "source": [
    "# for idx, doc in enumerate(cleaned_docs):\n",
    "#     print(doc.page_content)\n",
    "#     print(\"\\n\\n===PAGE BREAK===\\n\\n\")"
   ]
  },
  {
   "cell_type": "code",
   "execution_count": null,
   "metadata": {},
   "outputs": [],
   "source": []
  }
 ],
 "metadata": {
  "kernelspec": {
   "display_name": ".venv",
   "language": "python",
   "name": "python3"
  },
  "language_info": {
   "codemirror_mode": {
    "name": "ipython",
    "version": 3
   },
   "file_extension": ".py",
   "mimetype": "text/x-python",
   "name": "python",
   "nbconvert_exporter": "python",
   "pygments_lexer": "ipython3",
   "version": "3.12.9"
  }
 },
 "nbformat": 4,
 "nbformat_minor": 2
}
