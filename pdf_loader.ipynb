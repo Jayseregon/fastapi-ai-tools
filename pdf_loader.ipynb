{
 "cells": [
  {
   "cell_type": "code",
   "execution_count": 1,
   "metadata": {},
   "outputs": [],
   "source": [
    "from pathlib import Path\n",
    "\n",
    "# from dotenv import load_dotenv\n",
    "# import os\n",
    "\n",
    "from src.services.loaders.files import PdfLoader"
   ]
  },
  {
   "cell_type": "code",
   "execution_count": 2,
   "metadata": {},
   "outputs": [],
   "source": [
    "nc_solo_pdf = Path(\"_dev_nb/input_data/Norme_Commune_subset.pdf\")\n",
    "xplore_pdf = Path(\n",
    "    \"/Users/jayseregon/Documents/Telecon Design/Standards Xplore/2.1.10 Underground Fibre and Conduit Architecture for FSA.pdf\"\n",
    ")"
   ]
  },
  {
   "cell_type": "code",
   "execution_count": 3,
   "metadata": {},
   "outputs": [
    {
     "data": {
      "text/plain": [
       "8"
      ]
     },
     "execution_count": 3,
     "metadata": {},
     "output_type": "execute_result"
    }
   ],
   "source": [
    "async with PdfLoader() as loader:\n",
    "    docs = await loader.load_document(file_path=xplore_pdf)\n",
    "    await loader.documents_to_json(\n",
    "        documents=docs, filename=\"_dev_nb/output_data/xplore_pdf.json\"\n",
    "    )\n",
    "\n",
    "len(docs)"
   ]
  },
  {
   "cell_type": "code",
   "execution_count": 4,
   "metadata": {},
   "outputs": [
    {
     "name": "stdout",
     "output_type": "stream",
     "text": [
      "XNS Xplore National Standards – Fibre  \n",
      "  \n",
      "Document Number: 2.1.10 \n",
      " \n",
      " \n",
      "Revision: [Publish Date] \n",
      "Underground Fibre and Conduit Architecture for FSA \n",
      "Confidential \n",
      "Page 2 of 8 \n",
      " \n",
      "Underground Fibre and Conduit \n",
      "Architecture for FSA \n",
      " \n",
      "Purpose: \n",
      "The objective of this guideline is to give a clear outline of Xplore best practices and standard on fibre drop \n",
      "conduit and drop cable design architecture in FSA design.   \n",
      "The ultimate goal is to place the facilities by the most economical method, minimizing material costs to \n",
      "provide a service enabled network.  \n",
      "Scope: \n",
      "The guideline covers the key aspect such as conduit design consideration, drop cable installation criteria, \n",
      "and conduit sizes for different purposes. The guideline only covers drop conduit to Single \n",
      "Family/Business Unit premise, Multi-Tenant Unit premise is not covered in this document.  \n",
      "Applicability: \n",
      "This document is applicable to Outside Plant fibre engineers, designers, construction managers, and \n",
      "project mangers involved in the planning, design, and implementation of underground conduit systems \n",
      "and fibre drop cable design and installation for Xplore Fibre-To-The-Premise.  \n",
      "References to existing Xplore National Standards – Fibre: \n",
      " \n",
      "3.2.1 Drop Placement Guideline  \n",
      " \n",
      "3.2.4 Locatable Muletape and Tonerwire \n",
      " \n",
      "3.2.6 Fibre Underground Placement Standard \n",
      " \n",
      " \n",
      " \n",
      " \n",
      "\n",
      "\n",
      "\n",
      "\n",
      "![**Image Summary:** Logo featuring the word \"Xplore\" with a stylized letter \"X\" in green tones.\n",
      "\n",
      "**Extracted Text:** Xplore®](#)\n"
     ]
    }
   ],
   "source": [
    "print(docs[1].page_content)"
   ]
  },
  {
   "cell_type": "code",
   "execution_count": null,
   "metadata": {},
   "outputs": [],
   "source": []
  }
 ],
 "metadata": {
  "kernelspec": {
   "display_name": ".venv",
   "language": "python",
   "name": "python3"
  },
  "language_info": {
   "codemirror_mode": {
    "name": "ipython",
    "version": 3
   },
   "file_extension": ".py",
   "mimetype": "text/x-python",
   "name": "python",
   "nbconvert_exporter": "python",
   "pygments_lexer": "ipython3",
   "version": "3.12.9"
  }
 },
 "nbformat": 4,
 "nbformat_minor": 2
}
